{
 "cells": [
  {
   "cell_type": "markdown",
   "id": "ed7f1527-77b1-4c7a-901d-4e3b5a94fb4e",
   "metadata": {},
   "source": [
    "# Notebook 1 - Exploración de fuentes de datos - v1"
   ]
  },
  {
   "cell_type": "code",
   "execution_count": null,
   "id": "83f70c86-7b2c-44b8-b8d5-4e2643a67a57",
   "metadata": {},
   "outputs": [],
   "source": []
  },
  {
   "cell_type": "code",
   "execution_count": 3,
   "id": "3268b4e1-6077-409a-8e56-ff610ed6459e",
   "metadata": {},
   "outputs": [
    {
     "name": "stdout",
     "output_type": "stream",
     "text": [
      "\n"
     ]
    }
   ],
   "source": [
    "# pip install owid-catalog -> se instala pero Jupyter Lab no encuentra el módulo owid\n",
    "\n",
    "''' solucionado con este código\n",
    "import sys\n",
    "import subprocess\n",
    "\n",
    "# verifica dónde está instalado Python\n",
    "print(\"Python que usa JupyterLab:\", sys.executable)\n",
    "\n",
    "# instala owid-catalog en este Python específico\n",
    "try:\n",
    "    subprocess.check_call([sys.executable, '-m', 'pip', 'install', 'owid-catalog'])\n",
    "    print(\"✅ Instalación completada\")\n",
    "except Exception as e:\n",
    "    print(\"❌ Error en la instalación:\", e)\n",
    "\n",
    "# comprueba si owid-catalog está instalado\n",
    "result = subprocess.run([sys.executable, '-m', 'pip', 'show', 'owid-catalog'], \n",
    "                       capture_output=True, text=True)\n",
    "print(\"Paquete instalado:\", \"owid-catalog\" in result.stdout)\n",
    "\n",
    "# lista paquetes instalados que contengan 'owid'\n",
    "result = subprocess.run([sys.executable, '-m', 'pip', 'list'], \n",
    "                       capture_output=True, text=True)\n",
    "owid_packages = [line for line in result.stdout.split('\\n') if 'owid' in line.lower()]\n",
    "print(\"Paquetes owid encontrados:\", owid_packages)\n",
    "'''\n",
    "print()"
   ]
  },
  {
   "cell_type": "code",
   "execution_count": 2,
   "id": "8a32415c-3731-4ccb-af9b-21afdcfa11d0",
   "metadata": {},
   "outputs": [],
   "source": [
    "import owid.catalog as catalog"
   ]
  },
  {
   "cell_type": "code",
   "execution_count": null,
   "id": "3c971de3-b9a9-4ce1-b09a-62cbec7b57cd",
   "metadata": {},
   "outputs": [],
   "source": []
  },
  {
   "cell_type": "markdown",
   "id": "1ae0256d-c0bd-4abc-864a-f04fdf3a8ad7",
   "metadata": {},
   "source": [
    "## 1. Investigar y evaluar APIs disponibles de datos COVID"
   ]
  },
  {
   "cell_type": "markdown",
   "id": "e68c0409-09ef-4da8-9c39-48692ecdd52e",
   "metadata": {},
   "source": [
    "### 1.1. Our World in Data (OWID)"
   ]
  },
  {
   "cell_type": "markdown",
   "id": "68a2c6c5-b6c1-47cd-a9e0-5121998f8b1e",
   "metadata": {},
   "source": [
    "https://github.com/owid/etl\n",
    "\n",
    "https://docs.owid.io/projects/etl/api/covid/\n",
    "\n",
    "Recopilación de datos de COVID-19 desde el inicio de la pandemia hasta la actualidad (Mayo de 2025); consolida indicadores de varios conjuntos de datos en un único archivo, incluyendo metadatos que explican todos los indicadores en detalle."
   ]
  },
  {
   "cell_type": "code",
   "execution_count": null,
   "id": "77a07e6e-b83f-46ed-8e13-8da77549f7f2",
   "metadata": {},
   "outputs": [],
   "source": []
  },
  {
   "cell_type": "markdown",
   "id": "c008576b-5285-43ee-962c-9a1a4b1db741",
   "metadata": {},
   "source": [
    "### 1.2. Otros"
   ]
  },
  {
   "cell_type": "raw",
   "id": "bb430c6e-2d7b-4af5-bb5c-510df8cd8c3b",
   "metadata": {},
   "source": [
    "https://github.com/m-root/Covid-19-API - sin actualizaciones desde hace años\n",
    "\n",
    "https://github.com/STATWORX/covid-19-api - sin actualizaciones desde hace años\n",
    "\n",
    "covid19api.com - finalizó la actualización de datos en Mayo de 2023\n",
    "\n",
    "API Ninjas COVID-19 API - de pago\n",
    "\n",
    "https://github.com/CSSEGISandData/COVID-19 (Johns Hopkins University) - finalizó la actualización de datos en Marzo de 2023\n",
    "\n",
    "disease.sh - sin actualizaciones desde hace años"
   ]
  },
  {
   "cell_type": "code",
   "execution_count": null,
   "id": "f81dcbde-e955-4fc3-a9cb-cf5ec61d235b",
   "metadata": {},
   "outputs": [],
   "source": []
  },
  {
   "cell_type": "markdown",
   "id": "92321134-ea36-405a-aded-1d49c9d94f45",
   "metadata": {},
   "source": [
    "## 2. Our World in Data (OWID)"
   ]
  },
  {
   "cell_type": "code",
   "execution_count": 4,
   "id": "ae907747-4916-452b-9a94-a20eb12dc0a6",
   "metadata": {},
   "outputs": [],
   "source": [
    "# crea una instancia del catálogo\n",
    "cat = catalog.RemoteCatalog()"
   ]
  },
  {
   "cell_type": "code",
   "execution_count": 29,
   "id": "7a3d9892-9279-4b45-a086-9cc465e2c0e6",
   "metadata": {},
   "outputs": [
    {
     "name": "stdout",
     "output_type": "stream",
     "text": [
      "Tipo de datasets: <class 'owid.catalog.catalogs.CatalogFrame'>\n",
      "Total de datasets: 17533\n"
     ]
    }
   ],
   "source": [
    "# obtiene todos los datasets\n",
    "datasets = cat.find()\n",
    "print(f\"Tipo de datasets: {type(datasets)}\")\n",
    "print(f\"Total de datasets: {len(datasets)}\")"
   ]
  },
  {
   "cell_type": "code",
   "execution_count": 30,
   "id": "243841f1-7314-4369-89ea-5feca1e5af3c",
   "metadata": {},
   "outputs": [
    {
     "name": "stdout",
     "output_type": "stream",
     "text": [
      "✅ El dataframe sí contiene datos\n"
     ]
    }
   ],
   "source": [
    "# verifica si el DataFrame tiene datos\n",
    "if datasets.empty:\n",
    "    print(\"❌ El dataframe no contiene datos\")\n",
    "else:\n",
    "    print(\"✅ El dataframe sí contiene datos\")"
   ]
  },
  {
   "cell_type": "code",
   "execution_count": 31,
   "id": "23ae20d7-5b6e-4180-8cc1-88dc3af91a2f",
   "metadata": {},
   "outputs": [
    {
     "name": "stdout",
     "output_type": "stream",
     "text": [
      "Columnas: ['table', 'dataset', 'version', 'namespace', 'channel', 'is_public', 'dimensions', 'path', 'formats']\n"
     ]
    }
   ],
   "source": [
    "print(\"Columnas:\", list(datasets.columns))"
   ]
  },
  {
   "cell_type": "code",
   "execution_count": 38,
   "id": "2ae26391-f5b7-445c-8ec6-17c0d07eda50",
   "metadata": {},
   "outputs": [
    {
     "data": {
      "text/html": [
       "<div>\n",
       "<style scoped>\n",
       "    .dataframe tbody tr th:only-of-type {\n",
       "        vertical-align: middle;\n",
       "    }\n",
       "\n",
       "    .dataframe tbody tr th {\n",
       "        vertical-align: top;\n",
       "    }\n",
       "\n",
       "    .dataframe thead th {\n",
       "        text-align: right;\n",
       "    }\n",
       "</style>\n",
       "<table border=\"1\" class=\"dataframe\">\n",
       "  <thead>\n",
       "    <tr style=\"text-align: right;\">\n",
       "      <th></th>\n",
       "      <th>table</th>\n",
       "      <th>dataset</th>\n",
       "      <th>version</th>\n",
       "      <th>namespace</th>\n",
       "      <th>channel</th>\n",
       "      <th>is_public</th>\n",
       "      <th>dimensions</th>\n",
       "      <th>path</th>\n",
       "      <th>formats</th>\n",
       "    </tr>\n",
       "  </thead>\n",
       "  <tbody>\n",
       "    <tr>\n",
       "      <th>0</th>\n",
       "      <td>_10_1_1_si_hei_totl</td>\n",
       "      <td>un_sdg</td>\n",
       "      <td>2023-01-24</td>\n",
       "      <td>un</td>\n",
       "      <td>garden</td>\n",
       "      <td>True</td>\n",
       "      <td>[country, year, goal, target, indicator, serie...</td>\n",
       "      <td>garden/un/2023-01-24/un_sdg/_10_1_1_si_hei_totl</td>\n",
       "      <td>[feather, parquet]</td>\n",
       "    </tr>\n",
       "    <tr>\n",
       "      <th>1</th>\n",
       "      <td>_10_1_1_si_hei_totl</td>\n",
       "      <td>un_sdg</td>\n",
       "      <td>2023-08-16</td>\n",
       "      <td>un</td>\n",
       "      <td>garden</td>\n",
       "      <td>True</td>\n",
       "      <td>[country, year, goal, target, indicator, serie...</td>\n",
       "      <td>garden/un/2023-08-16/un_sdg/_10_1_1_si_hei_totl</td>\n",
       "      <td>[feather, parquet]</td>\n",
       "    </tr>\n",
       "    <tr>\n",
       "      <th>2</th>\n",
       "      <td>_10_1_1_si_hei_totl</td>\n",
       "      <td>un_sdg</td>\n",
       "      <td>2024-08-27</td>\n",
       "      <td>un</td>\n",
       "      <td>garden</td>\n",
       "      <td>True</td>\n",
       "      <td>[country, year, goal, target, indicator, serie...</td>\n",
       "      <td>garden/un/2024-08-27/un_sdg/_10_1_1_si_hei_totl</td>\n",
       "      <td>[feather, parquet]</td>\n",
       "    </tr>\n",
       "    <tr>\n",
       "      <th>3</th>\n",
       "      <td>_10_2_1_si_pov_50mi</td>\n",
       "      <td>un_sdg</td>\n",
       "      <td>2023-01-24</td>\n",
       "      <td>un</td>\n",
       "      <td>garden</td>\n",
       "      <td>True</td>\n",
       "      <td>[country, year, goal, target, indicator, serie...</td>\n",
       "      <td>garden/un/2023-01-24/un_sdg/_10_2_1_si_pov_50mi</td>\n",
       "      <td>[feather, parquet]</td>\n",
       "    </tr>\n",
       "    <tr>\n",
       "      <th>4</th>\n",
       "      <td>_10_2_1_si_pov_50mi</td>\n",
       "      <td>un_sdg</td>\n",
       "      <td>2023-08-16</td>\n",
       "      <td>un</td>\n",
       "      <td>garden</td>\n",
       "      <td>True</td>\n",
       "      <td>[country, year, goal, target, indicator, serie...</td>\n",
       "      <td>garden/un/2023-08-16/un_sdg/_10_2_1_si_pov_50mi</td>\n",
       "      <td>[feather, parquet]</td>\n",
       "    </tr>\n",
       "  </tbody>\n",
       "</table>\n",
       "</div>"
      ],
      "text/plain": [
       "                 table dataset     version namespace channel  is_public  \\\n",
       "0  _10_1_1_si_hei_totl  un_sdg  2023-01-24        un  garden       True   \n",
       "1  _10_1_1_si_hei_totl  un_sdg  2023-08-16        un  garden       True   \n",
       "2  _10_1_1_si_hei_totl  un_sdg  2024-08-27        un  garden       True   \n",
       "3  _10_2_1_si_pov_50mi  un_sdg  2023-01-24        un  garden       True   \n",
       "4  _10_2_1_si_pov_50mi  un_sdg  2023-08-16        un  garden       True   \n",
       "\n",
       "                                          dimensions  \\\n",
       "0  [country, year, goal, target, indicator, serie...   \n",
       "1  [country, year, goal, target, indicator, serie...   \n",
       "2  [country, year, goal, target, indicator, serie...   \n",
       "3  [country, year, goal, target, indicator, serie...   \n",
       "4  [country, year, goal, target, indicator, serie...   \n",
       "\n",
       "                                              path             formats  \n",
       "0  garden/un/2023-01-24/un_sdg/_10_1_1_si_hei_totl  [feather, parquet]  \n",
       "1  garden/un/2023-08-16/un_sdg/_10_1_1_si_hei_totl  [feather, parquet]  \n",
       "2  garden/un/2024-08-27/un_sdg/_10_1_1_si_hei_totl  [feather, parquet]  \n",
       "3  garden/un/2023-01-24/un_sdg/_10_2_1_si_pov_50mi  [feather, parquet]  \n",
       "4  garden/un/2023-08-16/un_sdg/_10_2_1_si_pov_50mi  [feather, parquet]  "
      ]
     },
     "execution_count": 38,
     "metadata": {},
     "output_type": "execute_result"
    }
   ],
   "source": [
    "# muestra los 5 primeros datasets del catálogo\n",
    "datasets.head()"
   ]
  },
  {
   "cell_type": "code",
   "execution_count": 37,
   "id": "28950332-0977-4987-a62e-7ba6807a1871",
   "metadata": {},
   "outputs": [
    {
     "name": "stdout",
     "output_type": "stream",
     "text": [
      "<class 'owid.catalog.catalogs.CatalogFrame'>\n",
      "RangeIndex: 17533 entries, 0 to 17532\n",
      "Data columns (total 9 columns):\n",
      " #   Column      Non-Null Count  Dtype \n",
      "---  ------      --------------  ----- \n",
      " 0   table       17533 non-null  object\n",
      " 1   dataset     17533 non-null  object\n",
      " 2   version     17533 non-null  object\n",
      " 3   namespace   17533 non-null  object\n",
      " 4   channel     17533 non-null  object\n",
      " 5   is_public   17533 non-null  bool  \n",
      " 6   dimensions  17533 non-null  object\n",
      " 7   path        17533 non-null  object\n",
      " 8   formats     17533 non-null  object\n",
      "dtypes: bool(1), object(8)\n",
      "memory usage: 1.1+ MB\n"
     ]
    }
   ],
   "source": [
    "datasets.info()"
   ]
  },
  {
   "cell_type": "code",
   "execution_count": 39,
   "id": "17f5ac97-1c6a-48ed-892d-3770cd939df1",
   "metadata": {},
   "outputs": [
    {
     "data": {
      "text/plain": [
       "channel\n",
       "garden    17533\n",
       "Name: count, dtype: int64"
      ]
     },
     "execution_count": 39,
     "metadata": {},
     "output_type": "execute_result"
    }
   ],
   "source": [
    "datasets['channel'].value_counts()    "
   ]
  },
  {
   "cell_type": "code",
   "execution_count": 68,
   "id": "a8aba690-c823-4e29-83d0-492144fa9d13",
   "metadata": {},
   "outputs": [
    {
     "name": "stdout",
     "output_type": "stream",
     "text": [
      "Datasets con 'population': 203\n"
     ]
    },
    {
     "data": {
      "text/html": [
       "<div>\n",
       "<style scoped>\n",
       "    .dataframe tbody tr th:only-of-type {\n",
       "        vertical-align: middle;\n",
       "    }\n",
       "\n",
       "    .dataframe tbody tr th {\n",
       "        vertical-align: top;\n",
       "    }\n",
       "\n",
       "    .dataframe thead th {\n",
       "        text-align: right;\n",
       "    }\n",
       "</style>\n",
       "<table border=\"1\" class=\"dataframe\">\n",
       "  <thead>\n",
       "    <tr style=\"text-align: right;\">\n",
       "      <th></th>\n",
       "      <th>table</th>\n",
       "      <th>dataset</th>\n",
       "      <th>version</th>\n",
       "      <th>namespace</th>\n",
       "      <th>channel</th>\n",
       "      <th>is_public</th>\n",
       "      <th>dimensions</th>\n",
       "      <th>path</th>\n",
       "      <th>formats</th>\n",
       "    </tr>\n",
       "  </thead>\n",
       "  <tbody>\n",
       "    <tr>\n",
       "      <th>562</th>\n",
       "      <td>_15_19_years_old_heavy_episodic_drinkers__popu...</td>\n",
       "      <td>gho</td>\n",
       "      <td>2024-01-03</td>\n",
       "      <td>who</td>\n",
       "      <td>garden</td>\n",
       "      <td>True</td>\n",
       "      <td>[year, country, sex]</td>\n",
       "      <td>garden/who/2024-01-03/gho/_15_19_years_old_hea...</td>\n",
       "      <td>[feather, parquet]</td>\n",
       "    </tr>\n",
       "    <tr>\n",
       "      <th>2377</th>\n",
       "      <td>adolescent_mortality_rate__per_100_000_population</td>\n",
       "      <td>gho</td>\n",
       "      <td>2024-01-03</td>\n",
       "      <td>who</td>\n",
       "      <td>garden</td>\n",
       "      <td>True</td>\n",
       "      <td>[year, country]</td>\n",
       "      <td>garden/who/2024-01-03/gho/adolescent_mortality...</td>\n",
       "      <td>[feather, parquet]</td>\n",
       "    </tr>\n",
       "    <tr>\n",
       "      <th>2381</th>\n",
       "      <td>adult_day_centre_places__per_10_000_population</td>\n",
       "      <td>gho</td>\n",
       "      <td>2024-01-03</td>\n",
       "      <td>who</td>\n",
       "      <td>garden</td>\n",
       "      <td>True</td>\n",
       "      <td>[year, country]</td>\n",
       "      <td>garden/who/2024-01-03/gho/adult_day_centre_pla...</td>\n",
       "      <td>[feather, parquet]</td>\n",
       "    </tr>\n",
       "    <tr>\n",
       "      <th>2383</th>\n",
       "      <td>adult_mortality_rate__probability_of_dying_bet...</td>\n",
       "      <td>gho</td>\n",
       "      <td>2024-01-03</td>\n",
       "      <td>who</td>\n",
       "      <td>garden</td>\n",
       "      <td>True</td>\n",
       "      <td>[year, country, sex]</td>\n",
       "      <td>garden/who/2024-01-03/gho/adult_mortality_rate...</td>\n",
       "      <td>[feather, parquet]</td>\n",
       "    </tr>\n",
       "    <tr>\n",
       "      <th>2483</th>\n",
       "      <td>age_standardized_dalys_attributable_to_the_env...</td>\n",
       "      <td>gho</td>\n",
       "      <td>2024-01-03</td>\n",
       "      <td>who</td>\n",
       "      <td>garden</td>\n",
       "      <td>True</td>\n",
       "      <td>[year, country, cause]</td>\n",
       "      <td>garden/who/2024-01-03/gho/age_standardized_dal...</td>\n",
       "      <td>[feather, parquet]</td>\n",
       "    </tr>\n",
       "  </tbody>\n",
       "</table>\n",
       "</div>"
      ],
      "text/plain": [
       "                                                  table dataset     version  \\\n",
       "562   _15_19_years_old_heavy_episodic_drinkers__popu...     gho  2024-01-03   \n",
       "2377  adolescent_mortality_rate__per_100_000_population     gho  2024-01-03   \n",
       "2381     adult_day_centre_places__per_10_000_population     gho  2024-01-03   \n",
       "2383  adult_mortality_rate__probability_of_dying_bet...     gho  2024-01-03   \n",
       "2483  age_standardized_dalys_attributable_to_the_env...     gho  2024-01-03   \n",
       "\n",
       "     namespace channel  is_public              dimensions  \\\n",
       "562        who  garden       True    [year, country, sex]   \n",
       "2377       who  garden       True         [year, country]   \n",
       "2381       who  garden       True         [year, country]   \n",
       "2383       who  garden       True    [year, country, sex]   \n",
       "2483       who  garden       True  [year, country, cause]   \n",
       "\n",
       "                                                   path             formats  \n",
       "562   garden/who/2024-01-03/gho/_15_19_years_old_hea...  [feather, parquet]  \n",
       "2377  garden/who/2024-01-03/gho/adolescent_mortality...  [feather, parquet]  \n",
       "2381  garden/who/2024-01-03/gho/adult_day_centre_pla...  [feather, parquet]  \n",
       "2383  garden/who/2024-01-03/gho/adult_mortality_rate...  [feather, parquet]  \n",
       "2483  garden/who/2024-01-03/gho/age_standardized_dal...  [feather, parquet]  "
      ]
     },
     "metadata": {},
     "output_type": "display_data"
    }
   ],
   "source": [
    "# busca datasets por palabra clave en todas las columnas de texto\n",
    "filtro = 'population'\n",
    "text_cols = datasets.select_dtypes(include=['object']).columns\n",
    "filter_mask = False\n",
    "for col in text_cols:\n",
    "    filter_mask |= datasets[col].str.contains(filtro, case=False, na=False)\n",
    "    \n",
    "filtered_datasets = datasets[filter_mask]\n",
    "print(f\"Datasets con '{filtro}': {len(filtered_datasets)}\")\n",
    "if not filtered_datasets.empty:\n",
    "    display(filtered_datasets.head())"
   ]
  },
  {
   "cell_type": "code",
   "execution_count": null,
   "id": "ace55d24-5051-433c-a565-f9e186239a6d",
   "metadata": {},
   "outputs": [],
   "source": []
  },
  {
   "cell_type": "code",
   "execution_count": 64,
   "id": "67887e27-2643-40e6-a284-928b2fbcb065",
   "metadata": {},
   "outputs": [
    {
     "data": {
      "text/plain": [
       "owid.catalog.catalogs.CatalogFrame"
      ]
     },
     "execution_count": 64,
     "metadata": {},
     "output_type": "execute_result"
    }
   ],
   "source": [
    "type(filtered_datasets)"
   ]
  },
  {
   "cell_type": "code",
   "execution_count": 65,
   "id": "49247666-87e1-4d96-80fc-abade5fea86d",
   "metadata": {},
   "outputs": [],
   "source": [
    "first_dataset = filtered_datasets.iloc[0].load()"
   ]
  },
  {
   "cell_type": "code",
   "execution_count": 66,
   "id": "28eb9ac7-bc42-484b-a46e-efb11b17f9c1",
   "metadata": {},
   "outputs": [
    {
     "data": {
      "text/html": [
       "\n",
       "             <h2 style=\"margin-bottom: 0em\"><pre>_15_19_years_old_heavy_episodic_drinkers__population__pct_with_95pctci</pre></h2>\n",
       "             <p style=\"font-variant: small-caps; font-size: 1.5em; font-family: sans-serif; color: grey; margin-top: -0.2em; margin-bottom: 0.2em\">table</p>\n",
       "             <div>\n",
       "<style scoped>\n",
       "    .dataframe tbody tr th:only-of-type {\n",
       "        vertical-align: middle;\n",
       "    }\n",
       "\n",
       "    .dataframe tbody tr th {\n",
       "        vertical-align: top;\n",
       "    }\n",
       "\n",
       "    .dataframe thead th {\n",
       "        text-align: right;\n",
       "    }\n",
       "</style>\n",
       "<table border=\"1\" class=\"dataframe\">\n",
       "  <thead>\n",
       "    <tr style=\"text-align: right;\">\n",
       "      <th></th>\n",
       "      <th></th>\n",
       "      <th></th>\n",
       "      <th>_15_19_years_old_heavy_episodic_drinkers__population__pct_with_95pctci</th>\n",
       "    </tr>\n",
       "    <tr>\n",
       "      <th>year</th>\n",
       "      <th>country</th>\n",
       "      <th>sex</th>\n",
       "      <th></th>\n",
       "    </tr>\n",
       "  </thead>\n",
       "  <tbody>\n",
       "    <tr>\n",
       "      <th rowspan=\"5\" valign=\"top\">2010</th>\n",
       "      <th rowspan=\"3\" valign=\"top\">Afghanistan</th>\n",
       "      <th>both sexes</th>\n",
       "      <td>0.0</td>\n",
       "    </tr>\n",
       "    <tr>\n",
       "      <th>female</th>\n",
       "      <td>0.0</td>\n",
       "    </tr>\n",
       "    <tr>\n",
       "      <th>male</th>\n",
       "      <td>0.0</td>\n",
       "    </tr>\n",
       "    <tr>\n",
       "      <th rowspan=\"2\" valign=\"top\">Albania</th>\n",
       "      <th>both sexes</th>\n",
       "      <td>21.5</td>\n",
       "    </tr>\n",
       "    <tr>\n",
       "      <th>female</th>\n",
       "      <td>13.3</td>\n",
       "    </tr>\n",
       "    <tr>\n",
       "      <th>...</th>\n",
       "      <th>...</th>\n",
       "      <th>...</th>\n",
       "      <td>...</td>\n",
       "    </tr>\n",
       "    <tr>\n",
       "      <th rowspan=\"5\" valign=\"top\">2016</th>\n",
       "      <th rowspan=\"2\" valign=\"top\">Zambia</th>\n",
       "      <th>female</th>\n",
       "      <td>2.4</td>\n",
       "    </tr>\n",
       "    <tr>\n",
       "      <th>male</th>\n",
       "      <td>15.0</td>\n",
       "    </tr>\n",
       "    <tr>\n",
       "      <th rowspan=\"3\" valign=\"top\">Zimbabwe</th>\n",
       "      <th>both sexes</th>\n",
       "      <td>5.3</td>\n",
       "    </tr>\n",
       "    <tr>\n",
       "      <th>female</th>\n",
       "      <td>1.4</td>\n",
       "    </tr>\n",
       "    <tr>\n",
       "      <th>male</th>\n",
       "      <td>9.2</td>\n",
       "    </tr>\n",
       "  </tbody>\n",
       "</table>\n",
       "<p>1136 rows × 1 columns</p>\n",
       "</div>\n",
       "        "
      ],
      "text/plain": [
       "                             _15_19_years_old_heavy_episodic_drinkers__population__pct_with_95pctci\n",
       "year country     sex                                                                               \n",
       "2010 Afghanistan both sexes                                                0.0                     \n",
       "                 female                                                    0.0                     \n",
       "                 male                                                      0.0                     \n",
       "     Albania     both sexes                                               21.5                     \n",
       "                 female                                                   13.3                     \n",
       "...                                                                        ...                     \n",
       "2016 Zambia      female                                                    2.4                     \n",
       "                 male                                                     15.0                     \n",
       "     Zimbabwe    both sexes                                                5.3                     \n",
       "                 female                                                    1.4                     \n",
       "                 male                                                      9.2                     \n",
       "\n",
       "[1136 rows x 1 columns]"
      ]
     },
     "execution_count": 66,
     "metadata": {},
     "output_type": "execute_result"
    }
   ],
   "source": [
    "first_dataset"
   ]
  },
  {
   "cell_type": "code",
   "execution_count": 58,
   "id": "d1799465-fcd0-42ed-9f5f-e2211be659f0",
   "metadata": {},
   "outputs": [
    {
     "data": {
      "text/plain": [
       "{'short_name': '_15_19_years_old_heavy_episodic_drinkers__population__pct_with_95pctci',\n",
       " 'title': '15-19 years old heavy episodic drinkers (population), % with 95%CI',\n",
       " 'dataset': {'channel': 'garden',\n",
       "  'namespace': 'who',\n",
       "  'short_name': 'gho',\n",
       "  'title': 'Global Health Observatory - World Health Organization',\n",
       "  'description': \"The GHO data repository is WHO's gateway to health-related statistics for its 194 Member States. It provides access to over 1000 indicators on priority health topics including mortality and burden of diseases, the Millennium Development Goals (child nutrition, child health, maternal and reproductive health, immunization, HIV/AIDS, tuberculosis, malaria, neglected diseases, water and sanitation), non communicable diseases and risk factors, epidemic-prone diseases, health systems, environmental health, violence and injuries, equity among others.\",\n",
       "  'is_public': True,\n",
       "  'version': '2024-01-03',\n",
       "  'update_period_days': 365,\n",
       "  'non_redistributable': False,\n",
       "  'source_checksum': 'e0587a508af3b7f8a60769b57f28c41b'},\n",
       " 'primary_key': ['year', 'country', 'sex']}"
      ]
     },
     "metadata": {},
     "output_type": "display_data"
    }
   ],
   "source": [
    "# metadatos\n",
    "metadata = first_dataset.metadata\n",
    "display(metadata.to_dict())"
   ]
  },
  {
   "cell_type": "code",
   "execution_count": 61,
   "id": "dd4d968a-eda6-45b8-8ca3-400d93b9996a",
   "metadata": {},
   "outputs": [
    {
     "name": "stdout",
     "output_type": "stream",
     "text": [
      "Título: 15-19 years old heavy episodic drinkers (population), % with 95%CI\n",
      "Channel: garden\n",
      "Namespace: who\n",
      "Título dataset: Global Health Observatory - World Health Organization\n",
      "Público: True\n",
      "Descripción: The GHO data repository is WHO's gateway to health-related statistics for its 194 Member States. It provides access to over 1000 indicators on priority health topics including mortality and burden of diseases, the Millennium Development Goals (child nutrition, child health, maternal and reproductive health, immunization, HIV/AIDS, tuberculosis, malaria, neglected diseases, water and sanitation), non communicable diseases and risk factors, epidemic-prone diseases, health systems, environmental health, violence and injuries, equity among others.\n"
     ]
    }
   ],
   "source": [
    "print(\"Título general:\", metadata.title)\n",
    "print(\"Channel:\", metadata.dataset.channel)\n",
    "print(\"Namespace:\", metadata.dataset.namespace)\n",
    "print(\"Título:\", metadata.dataset.title)\n",
    "print(\"Público:\", metadata.dataset.is_public)\n",
    "print(\"Descripción:\", metadata.dataset.description)"
   ]
  },
  {
   "cell_type": "code",
   "execution_count": null,
   "id": "39ecc7e8-f963-4404-8f77-186ff0bb68f3",
   "metadata": {},
   "outputs": [],
   "source": []
  },
  {
   "cell_type": "markdown",
   "id": "540bf6b9-af0e-4f89-81cb-a8a50b84c983",
   "metadata": {},
   "source": [
    "### 2.1. COVID-19"
   ]
  },
  {
   "cell_type": "markdown",
   "id": "78eabeed-e5e7-40a1-bd84-9f04e76fe435",
   "metadata": {},
   "source": [
    "Vamos a ver qué datasets están relacionados con el COVID-19."
   ]
  },
  {
   "cell_type": "code",
   "execution_count": 75,
   "id": "3fa6090f-c455-4de0-aaa9-78a913bb0974",
   "metadata": {},
   "outputs": [
    {
     "name": "stdout",
     "output_type": "stream",
     "text": [
      "Datasets con 'covid': 53\n"
     ]
    },
    {
     "data": {
      "text/html": [
       "<div>\n",
       "<style scoped>\n",
       "    .dataframe tbody tr th:only-of-type {\n",
       "        vertical-align: middle;\n",
       "    }\n",
       "\n",
       "    .dataframe tbody tr th {\n",
       "        vertical-align: top;\n",
       "    }\n",
       "\n",
       "    .dataframe thead th {\n",
       "        text-align: right;\n",
       "    }\n",
       "</style>\n",
       "<table border=\"1\" class=\"dataframe\">\n",
       "  <thead>\n",
       "    <tr style=\"text-align: right;\">\n",
       "      <th></th>\n",
       "      <th>table</th>\n",
       "      <th>dataset</th>\n",
       "      <th>version</th>\n",
       "      <th>namespace</th>\n",
       "      <th>channel</th>\n",
       "      <th>is_public</th>\n",
       "      <th>dimensions</th>\n",
       "      <th>path</th>\n",
       "      <th>formats</th>\n",
       "    </tr>\n",
       "  </thead>\n",
       "  <tbody>\n",
       "    <tr>\n",
       "      <th>4740</th>\n",
       "      <td>cases_and_deaths_who</td>\n",
       "      <td>cases_and_deaths_who</td>\n",
       "      <td>latest</td>\n",
       "      <td>covid</td>\n",
       "      <td>garden</td>\n",
       "      <td>False</td>\n",
       "      <td>[year, country]</td>\n",
       "      <td>garden/covid/latest/cases_and_deaths_who/cases...</td>\n",
       "      <td>[feather]</td>\n",
       "    </tr>\n",
       "    <tr>\n",
       "      <th>4741</th>\n",
       "      <td>cases_deaths</td>\n",
       "      <td>cases_deaths</td>\n",
       "      <td>latest</td>\n",
       "      <td>covid</td>\n",
       "      <td>garden</td>\n",
       "      <td>True</td>\n",
       "      <td>[country, date]</td>\n",
       "      <td>garden/covid/latest/cases_deaths/cases_deaths</td>\n",
       "      <td>[feather, csv]</td>\n",
       "    </tr>\n",
       "    <tr>\n",
       "      <th>4845</th>\n",
       "      <td>chile</td>\n",
       "      <td>deaths_vax_status</td>\n",
       "      <td>latest</td>\n",
       "      <td>covid</td>\n",
       "      <td>garden</td>\n",
       "      <td>True</td>\n",
       "      <td>[country, date]</td>\n",
       "      <td>garden/covid/latest/deaths_vax_status/chile</td>\n",
       "      <td>[feather, parquet]</td>\n",
       "    </tr>\n",
       "    <tr>\n",
       "      <th>5256</th>\n",
       "      <td>combined</td>\n",
       "      <td>combined</td>\n",
       "      <td>latest</td>\n",
       "      <td>covid</td>\n",
       "      <td>garden</td>\n",
       "      <td>True</td>\n",
       "      <td>[country, date]</td>\n",
       "      <td>garden/covid/latest/combined/combined</td>\n",
       "      <td>[feather, parquet]</td>\n",
       "    </tr>\n",
       "    <tr>\n",
       "      <th>5280</th>\n",
       "      <td>compact</td>\n",
       "      <td>compact</td>\n",
       "      <td>latest</td>\n",
       "      <td>covid</td>\n",
       "      <td>garden</td>\n",
       "      <td>True</td>\n",
       "      <td>[country, date]</td>\n",
       "      <td>garden/covid/latest/compact/compact</td>\n",
       "      <td>[feather, csv]</td>\n",
       "    </tr>\n",
       "  </tbody>\n",
       "</table>\n",
       "</div>"
      ],
      "text/plain": [
       "                     table               dataset version namespace channel  \\\n",
       "4740  cases_and_deaths_who  cases_and_deaths_who  latest     covid  garden   \n",
       "4741          cases_deaths          cases_deaths  latest     covid  garden   \n",
       "4845                 chile     deaths_vax_status  latest     covid  garden   \n",
       "5256              combined              combined  latest     covid  garden   \n",
       "5280               compact               compact  latest     covid  garden   \n",
       "\n",
       "      is_public       dimensions  \\\n",
       "4740      False  [year, country]   \n",
       "4741       True  [country, date]   \n",
       "4845       True  [country, date]   \n",
       "5256       True  [country, date]   \n",
       "5280       True  [country, date]   \n",
       "\n",
       "                                                   path             formats  \n",
       "4740  garden/covid/latest/cases_and_deaths_who/cases...           [feather]  \n",
       "4741      garden/covid/latest/cases_deaths/cases_deaths      [feather, csv]  \n",
       "4845        garden/covid/latest/deaths_vax_status/chile  [feather, parquet]  \n",
       "5256              garden/covid/latest/combined/combined  [feather, parquet]  \n",
       "5280                garden/covid/latest/compact/compact      [feather, csv]  "
      ]
     },
     "metadata": {},
     "output_type": "display_data"
    }
   ],
   "source": [
    "# busca datasets por palabra clave en todas las columnas de texto (object)\n",
    "filtro = 'covid'\n",
    "text_cols = datasets.select_dtypes(include=['object']).columns\n",
    "filter_mask = False\n",
    "for col in text_cols:\n",
    "    filter_mask |= datasets[col].str.contains(filtro, case=False, na=False)\n",
    "    \n",
    "filtered_datasets = datasets[filter_mask]\n",
    "print(f\"Datasets con '{filtro}': {len(filtered_datasets)}\")\n",
    "if not filtered_datasets.empty:\n",
    "    display(filtered_datasets.head())"
   ]
  },
  {
   "cell_type": "code",
   "execution_count": null,
   "id": "59abbf0d-89a1-4922-bdd7-916db663b31e",
   "metadata": {},
   "outputs": [],
   "source": []
  },
  {
   "cell_type": "code",
   "execution_count": 86,
   "id": "7ad4d681-7fe6-4ca9-b9bb-86c58b117be6",
   "metadata": {},
   "outputs": [
    {
     "name": "stdout",
     "output_type": "stream",
     "text": [
      "<class 'owid.catalog.catalogs.CatalogFrame'>\n",
      "Index(['table', 'dataset', 'version', 'namespace', 'channel', 'is_public',\n",
      "       'dimensions', 'path', 'formats'],\n",
      "      dtype='object')\n"
     ]
    }
   ],
   "source": [
    "print(type(filtered_datasets))\n",
    "print(filtered_datasets.columns)"
   ]
  },
  {
   "cell_type": "code",
   "execution_count": 91,
   "id": "487a2e43-e73f-4777-bf48-7434e31f09e8",
   "metadata": {},
   "outputs": [
    {
     "name": "stdout",
     "output_type": "stream",
     "text": [
      "Total de datasets públicos: 41\n"
     ]
    }
   ],
   "source": [
    "# selecciona sólo los datasets públicos\n",
    "public_datasets = filtered_datasets[filtered_datasets[\"is_public\"]]\n",
    "print(f\"Total de datasets públicos: {len(public_datasets)}\")"
   ]
  },
  {
   "cell_type": "code",
   "execution_count": 94,
   "id": "c1198557-4ba0-4f12-9537-4b54c793c53c",
   "metadata": {},
   "outputs": [
    {
     "name": "stdout",
     "output_type": "stream",
     "text": [
      "Título: COVID-19, confirmed cases and deaths\n",
      "Título: COVID-19, deaths by vaccination status\n",
      "Título: COVID-19, combined indicators\n",
      "Título: Global Health Estimates\n",
      "Título: GitHub stats on owid/covid-19-data repository\n",
      "Título: COVID-19, Countries reporting data\n",
      "Título: COVID-19, Government Response Tracker (OxCGRT)\n",
      "Título: COVID-19, Countries reporting data\n",
      "Título: COVID-19, Countries reporting data\n",
      "Título: COVID-19, Countries reporting data\n",
      "Título: COVID-19, Countries reporting data\n",
      "Título: COVID-19, donations to COVAX\n",
      "Título: None\n",
      "Título: COVID-19, decoupling of indicators\n",
      "Título: COVID-2019 - ECDC (2020)\n",
      "Título: COVID-19, deaths by vaccination status\n",
      "Título: COVID-19, Community Mobility Reports\n",
      "Título: Google Mobility Trends (2020)\n",
      "Título: COVID Government Response (OxBSG)\n",
      "Título: COVID-19, hospitalisations\n",
      "Título: COVID-2019 - Hospital & ICU\n",
      "Título: Global Health Observatory - World Health Organization\n",
      "Título: Global Health Observatory - World Health Organization\n",
      "Título: COVID-19, infection model estimates\n",
      "Título: COVID-19, JHU CSSE Dataset\n",
      "Título: COVID-19, Government Response Tracker (OxCGRT)\n",
      "Título: COVID-19, new registrations and deaths during the pandemic in Sweden\n",
      "Título: COVID-19, deaths by vaccination status\n",
      "Título: COVID-19, testing\n",
      "Título: COVID testing time series data\n",
      "Título: COVID-19, TrackingR\n",
      "Título: COVID-19, UK data\n",
      "Título: COVID-19, deaths by vaccination status\n",
      "Título: GitHub stats on owid/covid-19-data repository\n",
      "Título: COVID-19, vaccinations (by age)\n",
      "Título: COVID-19, vaccinations\n",
      "Título: COVID-19, vaccinations (by manufacturer)\n",
      "Título: COVID-19, Vaccinations (United States)\n",
      "Título: Global excess deaths associated with COVID-19 (modelled estimates)\n",
      "Título: COVID-19, Behaviour Tracker Data Hub\n",
      "Título: COVID-19, Behaviour Tracker Data Hub\n"
     ]
    }
   ],
   "source": [
    "for _, row in public_datasets.iterrows():\n",
    "    # carga el dataset como objeto Table\n",
    "    table = row.load()\n",
    "    print(\"Título:\", table.metadata.dataset.title)"
   ]
  },
  {
   "cell_type": "code",
   "execution_count": null,
   "id": "059ac2b4-355b-4e08-8a00-9342a72d63de",
   "metadata": {},
   "outputs": [],
   "source": []
  },
  {
   "cell_type": "markdown",
   "id": "bca4cc58-0bbb-4ed3-b7f1-ef4cd3b51005",
   "metadata": {},
   "source": [
    "<b>Conclusión</b>\n",
    "\n",
    "Vamos a trabajar con los datasets del COVID-19 de OWID."
   ]
  },
  {
   "cell_type": "code",
   "execution_count": null,
   "id": "224670b5-5aae-4ea9-b07c-a5653a991f12",
   "metadata": {},
   "outputs": [],
   "source": []
  }
 ],
 "metadata": {
  "kernelspec": {
   "display_name": "Python 3 (ipykernel)",
   "language": "python",
   "name": "python3"
  },
  "language_info": {
   "codemirror_mode": {
    "name": "ipython",
    "version": 3
   },
   "file_extension": ".py",
   "mimetype": "text/x-python",
   "name": "python",
   "nbconvert_exporter": "python",
   "pygments_lexer": "ipython3",
   "version": "3.12.3"
  }
 },
 "nbformat": 4,
 "nbformat_minor": 5
}
